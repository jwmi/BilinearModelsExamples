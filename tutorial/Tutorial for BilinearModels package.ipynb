{
 "cells": [
  {
   "attachments": {},
   "cell_type": "markdown",
   "metadata": {},
   "source": [
    "# Tutorial for BilinearModels package\n",
    "\n",
    "## Introduction\n",
    "\n",
    "Generalized bilinear models (GBMs) are a flexible extension of generalized linear models (GLMs) to include latent factors as well as row covariates, column covariates, and interactions to analyze matrix data (Choulakian, 1996; Miller and Carter, 2020).\n",
    "\n",
    "This tutorial shows how to use the [BilinearModels.jl](https://github.com/jwmi/BilinearModels.jl) Julia package to perform estimation and inference in negative binomial GBMs for count data.  Please cite Miller and Carter (2020) if you use the BilinearModels.jl package for research leading to a publication.\n",
    "\n",
    "In a GBM, the data matrix $Y = (Y_{i j})\\in\\mathbb{R}^{I\\times J}$ is modeled by parametrizing the mean $\\mathrm{E}(Y)$ such that\n",
    "\n",
    "$$ g(\\mathrm{E}(Y)) = X A^\\texttt{T} + B Z^\\texttt{T} + X C Z^\\texttt{T} + U D V^\\texttt{T} $$\n",
    "\n",
    "where $g$ is a a link function that is applied element-wise. The \"bilinear\" part $U D V^\\texttt{T}$ is a low-rank matrix that captures latent effects due, for example, to unobserved covariates such as batch.  The BilinearModels.jl package currently uses a negative binomial outcome with log link, $g(\\mu) = \\log(\\mu)$. See Miller and Carter (2020) for details.\n",
    "\n",
    "<!-- <br><center><img src=\"https://github.com/jwmi/BilinearModelsExamples/raw/main/tutorial/figures/model-g.png\" width=\"800\"></center> -->\n",
    "\n",
    "<div>\n",
    "<!-- <img src=\"figures/model-g.png\" align=\"center\" width=\"800\"/> -->\n",
    "<img src=\"https://github.com/jwmi/BilinearModelsExamples/raw/main/tutorial/figures/model-g.png\" align=\"center\" width=\"800\"/>\n",
    "</div>"
   ]
  },
  {
   "cell_type": "markdown",
   "metadata": {},
   "source": [
    "***\n",
    "## Setup\n",
    "\n",
    "### Installing BilinearModels.jl package\n",
    "\n",
    "First, download and install [Julia](https://julialang.org/).  Start Julia and enter the following commands at the `julia>` prompt to install the [BilinearModels.jl](https://github.com/jwmi/BilinearModels.jl) package:"
   ]
  },
  {
   "cell_type": "code",
   "execution_count": null,
   "metadata": {},
   "outputs": [],
   "source": [
    "using Pkg\n",
    "Pkg.add(url=\"https://github.com/jwmi/BilinearModels.jl\")"
   ]
  },
  {
   "cell_type": "code",
   "execution_count": 2,
   "metadata": {},
   "outputs": [],
   "source": [
    "using BilinearModels"
   ]
  },
  {
   "cell_type": "markdown",
   "metadata": {},
   "source": [
    "As a quick test to make sure things are working, try this:"
   ]
  },
  {
   "cell_type": "code",
   "execution_count": 3,
   "metadata": {},
   "outputs": [
    {
     "name": "stdout",
     "output_type": "stream",
     "text": [
      "iteration 1: logp = -32.181561516520645\n",
      "iteration 2: logp = -32.06094964489715\n",
      "iteration 3: logp = -32.02450562203871\n",
      "iteration 4: logp = -32.00936718102702\n",
      "iteration 5: logp = -32.002571675212614\n",
      "iteration 6: logp = -31.999367910889188\n",
      "iteration 7: logp = -31.997817594791158\n",
      "iteration 8: logp = -31.997057070632096\n",
      "iteration 9: logp = -31.99668136745074\n",
      "iteration 10: logp = -31.996495098807483\n",
      "iteration 11: logp = -31.996402577578284\n",
      "iteration 12: logp = -31.996356577164565\n",
      "iteration 13: logp = -31.99633369482534\n",
      "Finished.\n"
     ]
    },
    {
     "data": {
      "text/plain": [
       "3×1 Array{Float64,2}:\n",
       " -0.11118582286764742\n",
       "  0.11506609564808493\n",
       " -0.0038802727804375103"
      ]
     },
     "execution_count": 3,
     "metadata": {},
     "output_type": "execute_result"
    }
   ],
   "source": [
    "Y = [1 2 3; 4 5 6; 7 8 0]\n",
    "I,J = size(Y)\n",
    "X = ones(I,1)\n",
    "Z = ones(J,1)\n",
    "A,B,C,D,U,V,S,T,omega,logp = BilinearModels.fit(Y,X,Z,0)\n",
    "A"
   ]
  },
  {
   "cell_type": "markdown",
   "metadata": {},
   "source": [
    "### Installing other packages for tutorial\n",
    "\n",
    "We will also use some other Julia packages in this tutorial.  To install these, do:"
   ]
  },
  {
   "cell_type": "code",
   "execution_count": 5,
   "metadata": {},
   "outputs": [
    {
     "name": "stderr",
     "output_type": "stream",
     "text": [
      "\u001b[32m\u001b[1m  Resolving\u001b[22m\u001b[39m package versions...\n",
      "\u001b[32m\u001b[1mNo Changes\u001b[22m\u001b[39m to `C:\\Users\\jwmil\\.julia\\environments\\v1.5\\Project.toml`\n",
      "\u001b[32m\u001b[1mNo Changes\u001b[22m\u001b[39m to `C:\\Users\\jwmil\\.julia\\environments\\v1.5\\Manifest.toml`\n"
     ]
    }
   ],
   "source": [
    "using Pkg\n",
    "Pkg.add([\"Statistics\",\"CSV\",\"RData\",\"GLM\",\"PyPlot\"])"
   ]
  },
  {
   "cell_type": "markdown",
   "metadata": {},
   "source": [
    "### Loading example data\n",
    "\n",
    "As a running example, we will use 412 RNA-seq samples from heart tissue provided by the [Recount2 project](https://jhubiostatistics.shinyapps.io/recount/) (Collado-Torres et al., 2017), originally collected as part of the Genotype-Tissue Expression (GTEx) project (Melé et al., 2015).\n",
    "\n",
    "Download the following files to a folder on your computer:\n",
    "- [Sample information file (344 KB)](https://github.com/jwmi/BilinearModelsExamples/raw/main/tutorial/gtex_sample_info-heart.txt)\n",
    "- [Gene information file (2 MB)](https://github.com/jwmi/BilinearModelsExamples/raw/main/tutorial/gtex_gene_info-heart.txt)\n",
    "- [Data file (15.7 MB)](https://github.com/jwmi/BilinearModelsExamples/raw/main/tutorial/gtex_data-heart.rda)\n",
    "- [Miscellaneous helper functions](https://github.com/jwmi/BilinearModelsExamples/raw/main/tutorial/helper.jl)\n",
    "\n",
    "Then, to load these data:"
   ]
  },
  {
   "cell_type": "code",
   "execution_count": 8,
   "metadata": {},
   "outputs": [
    {
     "data": {
      "text/plain": [
       "(20088, 412)"
      ]
     },
     "execution_count": 8,
     "metadata": {},
     "output_type": "execute_result"
    }
   ],
   "source": [
    "cd(\"C:\\\\Users\\\\jwmil\\\\gdrive\\\\BilinearModelsExamples\\\\tutorial\")  # change directory to the location of these data files and helper.jl.\n",
    "\n",
    "include(\"helper.jl\")  # load helper functions into Julia\n",
    "\n",
    "Y = load(\"gtex_data-heart.rda\")[\"counts\"]  # load data matrix\n",
    "\n",
    "gene_info = CSV.read(\"gtex_gene_info-heart.tsv\"; delim='\\t')  # load gene information file\n",
    "\n",
    "sample_info = CSV.read(\"gtex_sample_info-heart.tsv\"; delim='\\t')  # load sample information file\n",
    "\n",
    "I,J = size(Y)  # dimensions of data matrix"
   ]
  },
  {
   "cell_type": "markdown",
   "metadata": {},
   "source": [
    "***\n",
    "\n",
    "\n",
    "## Simple normalization\n",
    "\n",
    "GBMs can be used for a wide range of tasks.  We first illustrate how they can be used to perform a simple normalization task.\n",
    "Count data are often preprocessed using a transformation such as $log(Y_{i j}+1)$ and standardizing the rows and columns.\n",
    "GBMs provide a model-based approach to normalizing count matrices by using the following model:\n",
    "\n",
    "$$ g(\\mathrm{E}(Y_{i j})) = a_j + b_i + c $$\n",
    "\n",
    "and then applying techniques based on normal models such as linear regression and principle components analysis (PCA). \n",
    " \n",
    "\n",
    "GBMs allow one to model a data matrix using row covariates, column covariates, and latent factors.  However, even when no covariates or latent factors are used, the model can be used to normalize the data.\n",
    "\n",
    "\n",
    "\n"
   ]
  },
  {
   "cell_type": "code",
   "execution_count": null,
   "metadata": {},
   "outputs": [],
   "source": []
  },
  {
   "cell_type": "code",
   "execution_count": null,
   "metadata": {},
   "outputs": [],
   "source": []
  },
  {
   "cell_type": "code",
   "execution_count": null,
   "metadata": {},
   "outputs": [],
   "source": []
  },
  {
   "cell_type": "code",
   "execution_count": null,
   "metadata": {},
   "outputs": [],
   "source": []
  },
  {
   "cell_type": "code",
   "execution_count": null,
   "metadata": {},
   "outputs": [],
   "source": []
  },
  {
   "cell_type": "code",
   "execution_count": null,
   "metadata": {},
   "outputs": [],
   "source": []
  },
  {
   "cell_type": "code",
   "execution_count": null,
   "metadata": {},
   "outputs": [],
   "source": []
  },
  {
   "cell_type": "code",
   "execution_count": null,
   "metadata": {},
   "outputs": [],
   "source": []
  },
  {
   "cell_type": "markdown",
   "metadata": {},
   "source": [
    "## References\n",
    "\n",
    "Choulakian, V. **Generalized bilinear models.** Psychometrika, 61(2):271–283, 1996.\n",
    "\n",
    "Collado-Torres, L., Nellore, A., Kammers, K., Ellis, S. E., Taub, M. A., Hansen, K. D., Jaffe, A. E., Langmead, B., and Leek, J. T. **Reproducible RNA-seq analysis using recount2.** Nature Biotechnology, 35(4):319–321, 2017.\n",
    "\n",
    "Melé, M., Ferreira, P. G., Reverter, F., DeLuca, D. S., Monlong, J., Sammeth, M., Young, T. R., Goldmann, J. M., Pervouchine, D. D., Sullivan, T. J., et al. **The human transcriptome across tissues and individuals.** Science, 348(6235):660–665, 2015.\n",
    "\n",
    "Miller, J. W. and Carter, S. L.  **Inference in generalized bilinear models.** [arXiv preprint: arXiv2010.04896](https://arxiv.org/abs/2010.04896), 2020.\n",
    "\n",
    "<br><br><br><br><br>"
   ]
  }
 ],
 "metadata": {
  "kernelspec": {
   "display_name": "Julia 1.5.1",
   "language": "julia",
   "name": "julia-1.5"
  },
  "language_info": {
   "file_extension": ".jl",
   "mimetype": "application/julia",
   "name": "julia",
   "version": "1.5.1"
  }
 },
 "nbformat": 4,
 "nbformat_minor": 4
}
