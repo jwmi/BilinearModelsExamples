{
 "cells": [
  {
   "cell_type": "markdown",
   "metadata": {},
   "source": [
    "# Tutorial for BilinearModels package\n",
    "\n",
    "## Introduction\n",
    "\n",
    "Generalized bilinear models (GBMs) are a flexible extension of generalized linear models (GLMs) to include latent factors as well as row covariates, column covariates, and interactions to analyze matrix data (Choulakian, 1996; Miller and Carter, 2020).\n",
    "\n",
    "This tutorial shows how to use the [BilinearModels.jl](https://github.com/jwmi/BilinearModels.jl) Julia package to perform estimation and inference in negative binomial GBMs for count data.  Please cite Miller and Carter (2020) if you use the BilinearModels.jl package in a publication."
   ]
  },
  {
   "cell_type": "markdown",
   "metadata": {},
   "source": [
    "***\n",
    "## Setup\n",
    "\n",
    "### Installing BilinearModels.jl package\n",
    "\n",
    "First, download and install [Julia](https://julialang.org/).  Start Julia and enter the following commands at the `julia>` prompt to install the [BilinearModels.jl](https://github.com/jwmi/BilinearModels.jl) package:"
   ]
  },
  {
   "cell_type": "code",
   "execution_count": null,
   "metadata": {},
   "outputs": [],
   "source": [
    "using Pkg\n",
    "Pkg.add(url=\"https://github.com/jwmi/BilinearModels.jl\")"
   ]
  },
  {
   "cell_type": "code",
   "execution_count": 1,
   "metadata": {},
   "outputs": [],
   "source": [
    "using BilinearModels"
   ]
  },
  {
   "cell_type": "markdown",
   "metadata": {},
   "source": [
    "As a quick test to make sure things are working, try this:"
   ]
  },
  {
   "cell_type": "code",
   "execution_count": 9,
   "metadata": {},
   "outputs": [
    {
     "name": "stdout",
     "output_type": "stream",
     "text": [
      "iteration 1: logp = -32.181561516520645\n",
      "iteration 2: logp = -32.06094964489715\n",
      "iteration 3: logp = -32.02450562203871\n",
      "iteration 4: logp = -32.00936718102702\n",
      "iteration 5: logp = -32.002571675212614\n",
      "iteration 6: logp = -31.999367910889188\n",
      "iteration 7: logp = -31.997817594791158\n",
      "iteration 8: logp = -31.997057070632096\n",
      "iteration 9: logp = -31.99668136745074\n",
      "iteration 10: logp = -31.996495098807483\n",
      "iteration 11: logp = -31.996402577578284\n",
      "iteration 12: logp = -31.996356577164565\n",
      "iteration 13: logp = -31.99633369482534\n"
     ]
    },
    {
     "data": {
      "text/plain": [
       "3×1 Array{Float64,2}:\n",
       " -0.11118582286764742\n",
       "  0.11506609564808493\n",
       " -0.0038802727804375103"
      ]
     },
     "execution_count": 9,
     "metadata": {},
     "output_type": "execute_result"
    }
   ],
   "source": [
    "Y = [1 2 3; 4 5 6; 7 8 0]\n",
    "I,J = size(Y)\n",
    "X = ones(I,1)\n",
    "Z = ones(J,1)\n",
    "A,B,C,D,U,V,S,T,omega,logp = BilinearModels.fit(Y,X,Z,0)\n",
    "A"
   ]
  },
  {
   "cell_type": "markdown",
   "metadata": {},
   "source": [
    "### Installing other packages for tutorial\n",
    "\n",
    "We will also use some other Julia packages in this tutorial.  To install these, do:"
   ]
  },
  {
   "cell_type": "code",
   "execution_count": null,
   "metadata": {},
   "outputs": [],
   "source": [
    "using Pkg\n",
    "Pkg.add([\"Statistics\",\"CSV\",\"GLM\",\"PyPlot\"])"
   ]
  },
  {
   "cell_type": "markdown",
   "metadata": {},
   "source": [
    "### Loading example data\n",
    "\n",
    "As a running example, we will use 412 RNA-seq samples from heart tissue provided by the [Recount2 project](https://jhubiostatistics.shinyapps.io/recount/) (Collado-Torres et al., 2017), originally collected as part of the Genotype-Tissue Expression (GTEx) project (Melé et al., 2015).\n",
    "\n",
    "Download the following files to a folder on your computer:\n",
    "- [Sample information file (344 KB)](https://github.com/jwmi/BilinearModelsExamples/raw/main/tutorial/gtex_sample_info-heart.txt)\n",
    "- [Gene information file (2 MB)](https://github.com/jwmi/BilinearModelsExamples/raw/main/tutorial/gtex_gene_info-heart.txt)\n",
    "- [Data file (15.7 MB)](https://github.com/jwmi/BilinearModelsExamples/raw/main/tutorial/gtex_data-heart.rda)\n",
    "- [Miscellaneous helper functions](https://github.com/jwmi/BilinearModelsExamples/raw/main/tutorial/helper.jl)\n",
    "\n"
   ]
  },
  {
   "cell_type": "markdown",
   "metadata": {},
   "source": [
    "***\n",
    "\n",
    "\n",
    "## Simple normalization\n",
    "\n"
   ]
  },
  {
   "cell_type": "code",
   "execution_count": null,
   "metadata": {},
   "outputs": [],
   "source": []
  },
  {
   "cell_type": "code",
   "execution_count": null,
   "metadata": {},
   "outputs": [],
   "source": []
  },
  {
   "cell_type": "code",
   "execution_count": 1,
   "metadata": {},
   "outputs": [],
   "source": [
    "using BilinearModels"
   ]
  },
  {
   "cell_type": "markdown",
   "metadata": {},
   "source": [
    "This is a test.  Let's try some math: $f(x) = x^2$.\n",
    "\n",
    "$$ \\sum_{i=1}^n a_i = 1. $$"
   ]
  },
  {
   "cell_type": "markdown",
   "metadata": {},
   "source": [
    "## References\n",
    "\n",
    "Choulakian, V. **Generalized bilinear models.** Psychometrika, 61(2):271–283, 1996.\n",
    "\n",
    "Collado-Torres, L., Nellore, A., Kammers, K., Ellis, S. E., Taub, M. A., Hansen, K. D., Jaffe, A. E., Langmead, B., and Leek, J. T. **Reproducible RNA-seq analysis using recount2.** Nature Biotechnology, 35(4):319–321, 2017.\n",
    "\n",
    "Melé, M., Ferreira, P. G., Reverter, F., DeLuca, D. S., Monlong, J., Sammeth, M., Young, T. R., Goldmann, J. M., Pervouchine, D. D., Sullivan, T. J., et al. **The human transcriptome across tissues and individuals.** Science, 348(6235):660–665, 2015.\n",
    "\n",
    "Miller, J. W. and Carter, S. L.  **Inference in generalized bilinear models.** [arXiv preprint: arXiv2010.04896](https://arxiv.org/abs/2010.04896), 2020.\n",
    "\n",
    "<br><br><br><br><br>"
   ]
  }
 ],
 "metadata": {
  "kernelspec": {
   "display_name": "Julia 1.5.1",
   "language": "julia",
   "name": "julia-1.5"
  },
  "language_info": {
   "file_extension": ".jl",
   "mimetype": "application/julia",
   "name": "julia",
   "version": "1.5.1"
  }
 },
 "nbformat": 4,
 "nbformat_minor": 4
}
